{
 "cells": [
  {
   "cell_type": "code",
   "execution_count": 3,
   "metadata": {
    "collapsed": true
   },
   "outputs": [],
   "source": [
    "#Import Dependencies\n",
    "from bs4 import BeautifulSoup\n",
    "import requests\n",
    "import re\n",
    "comm = re.compile(\"<!--|-->\")\n",
    "from ohmysportsfeedspy import MySportsFeeds\n",
    "import pymongo"
   ]
  },
  {
   "cell_type": "code",
   "execution_count": 4,
   "metadata": {
    "collapsed": true
   },
   "outputs": [],
   "source": [
    "#Initialize nba_collg - the final results of our webscraping\n",
    "nba_collg = []"
   ]
  },
  {
   "cell_type": "code",
   "execution_count": 5,
   "metadata": {
    "collapsed": true
   },
   "outputs": [],
   "source": [
    "# Function definition for get_allurls() - To construct college stats url for every player in nba_bio collection in nba db\n",
    "def get_allurls():\n",
    "#Placeholder for the data to be returned\n",
    "    collg_stats_list = []\n",
    "    baseurl = \"https://www.basketball-reference.com/players/\"\n",
    "#Connect to mongodb\n",
    "    conn = 'mongodb://localhost:27017'\n",
    "    client = pymongo.MongoClient(conn)\n",
    "#From nba db,get nba_bio collection\n",
    "    db = client.nba\n",
    "    bio_results = db.nba_bio.find()\n",
    "#Get url for each player\n",
    "    for result in bio_results:\n",
    "        collg_stats_dict = {}\n",
    "        collg_stats_dict['ID'] = result['ID']\n",
    "        collg_stats_dict['FirstName'] = result['FirstName']\n",
    "        collg_stats_dict['LastName'] = result['LastName']\n",
    "        if result['FirstName'][1] == '.':\n",
    "            playerurl = result['LastName'][:1].lower() + '/' + result['LastName'][:5].lower() + result['FirstName'][0].lower() + result['FirstName'][2].lower() + '01' + \".html#all_all_college_stats\"\n",
    "        else:\n",
    "            playerurl = result['LastName'][:1].lower() + '/' + result['LastName'][:5].lower() + result['FirstName'][:2].lower() + '01' + \".html#all_all_college_stats\"\n",
    "        collg_stats_dict['url'] = baseurl + playerurl\n",
    "        collg_stats_list.append(collg_stats_dict)\n",
    "#Return a list of dictionaries, each dictionary representing a player info\n",
    "    return collg_stats_list"
   ]
  },
  {
   "cell_type": "code",
   "execution_count": 6,
   "metadata": {
    "collapsed": true
   },
   "outputs": [],
   "source": [
    "# Function definition for make_soup() - To return a bs object corresponding to the url to scrape player's college stats \n",
    "def make_soup(url):\n",
    "    page = requests.get(url)\n",
    "    soupdata = BeautifulSoup(comm.sub(\"\", page.text), 'lxml')\n",
    "#Returns a bs object for the url to be scraped\n",
    "    return soupdata"
   ]
  },
  {
   "cell_type": "code",
   "execution_count": 7,
   "metadata": {
    "collapsed": true
   },
   "outputs": [],
   "source": [
    "# Function definition for get_player_totals() - To scrape the college stats for 1 player, takes url to be scraped as parameter\n",
    "def get_player_totals(url):\n",
    "#Initiaize the dictionary to hold college stats for a player\n",
    "    collg_stats = {}\n",
    "#Do not append the dictionary with keys that are always blank \n",
    "    keys_to_remove = ['age','college_id']\n",
    "#Get soup object for url\n",
    "    soup = make_soup(url)\n",
    "#Get college stats for the player from the url\n",
    "    try:\n",
    "        allStats = soup.find('table', {'id':'all_college_stats'}).find('tfoot').findAll('td')\n",
    "    except:\n",
    "#If no college stats found, append an empty list\n",
    "        allStats = []\n",
    "#For players with no college stats available, the key - 'G' will have a value of 'NA' for analysis\n",
    "    if not allStats:\n",
    "        collg_stats['G'] = 'NA'\n",
    "        return collg_stats\n",
    "    else:\n",
    "        for stat in allStats:\n",
    "            collg_stats = { stat['data-stat']: stat.text   for stat in allStats if stat['data-stat'] not in keys_to_remove}\n",
    "#Returns a dictionary of college stats for each player\n",
    "    return collg_stats"
   ]
  },
  {
   "cell_type": "code",
   "execution_count": 8,
   "metadata": {
    "collapsed": true
   },
   "outputs": [],
   "source": [
    "# Function definition for scrape_all_players() - To scrape the college stats for all players\n",
    "def scrape_all_players():\n",
    "#Get urls to be scraped for all players \n",
    "    collg_stats_list_intital = get_allurls()\n",
    "#Intitalize the list to hold all the players stats\n",
    "    collg_stats_list = []\n",
    "#     print(collg_stats_list)\n",
    "#Loop thru each player\n",
    "    for player in collg_stats_list_intital:\n",
    "        collg_stats_listitem = {}\n",
    "        collg_stats_byplayer = {}\n",
    "        collg_player_info = {}\n",
    "        url = player['url']\n",
    "#Get college stats for each player\n",
    "        try:\n",
    "            collg_stats_byplayer = get_player_totals(url)\n",
    "            collg_player_info = get_player_info(url)\n",
    "            collg_stats_listitem['ID'] = player['ID']\n",
    "            collg_stats_listitem['FirstName'] = player['FirstName']\n",
    "            collg_stats_listitem['LastName'] = player['LastName']\n",
    "            collg_stats_listitem['picurl'] = collg_player_info[\"picurl\"]\n",
    "            collg_stats_listitem['College'] = collg_player_info[\"collg\"]\n",
    "            collg_stats_listitem[\"Collgcity\"] = collg_player_info[\"collgcity\"]\n",
    "            collg_stats_listitem[\"Cglat\"] = collg_player_info[\"cglat\"]\n",
    "            collg_stats_listitem[\"Cglong\"] = collg_player_info[\"cglong\"] \n",
    "            collg_stats_listitem[\"HighSchool\"] = collg_player_info[\"hs\"] \n",
    "            collg_stats_listitem[\"Hscity\"] = collg_player_info[\"hscity\"]\n",
    "            collg_stats_listitem[\"Hsstate\"] = collg_player_info[\"hsstate\"]\n",
    "            collg_stats_listitem[\"Hslat\"] = collg_player_info[\"hslat\"]\n",
    "            collg_stats_listitem[\"Hslong\"] = collg_player_info[\"hslong\"] \n",
    "            collg_stats_listitem['collg-stats'] = collg_stats_byplayer\n",
    "        except:\n",
    "            pass\n",
    "#Add all elements to a list\n",
    "        collg_stats_list.append(collg_stats_listitem)\n",
    "#Returns a list of dictionaries containing all players info and college stats\n",
    "    return collg_stats_list"
   ]
  },
  {
   "cell_type": "code",
   "execution_count": 9,
   "metadata": {
    "collapsed": true
   },
   "outputs": [],
   "source": [
    "def geocode(address):\n",
    "# Inert your gkey here\n",
    "    gkey = \"\"\n",
    "    target_city = address\n",
    "    try:\n",
    "        target_url=\"https://maps.googleapis.com/maps/api/geocode/json?address=%s&key=%s\"%(target_city,gkey)\n",
    "#         print(target_url)\n",
    "        geo_data = requests.get(target_url).json()\n",
    "        lat = geo_data[\"results\"][0][\"geometry\"][\"location\"][\"lat\"]\n",
    "        long =geo_data[\"results\"][0][\"geometry\"][\"location\"][\"lng\"]\n",
    "    except:\n",
    "        lat=\"NA\"\n",
    "        long=\"NA\"\n",
    "    return lat,long"
   ]
  },
  {
   "cell_type": "code",
   "execution_count": 10,
   "metadata": {
    "collapsed": true
   },
   "outputs": [],
   "source": [
    "def get_player_info(url):\n",
    "    url = url\n",
    "    print(url)\n",
    "    player_info = {}\n",
    "    soup = make_soup(url)\n",
    "    try:\n",
    "        picurl = soup.find('div',class_='media-item').find('img')['src']\n",
    "    except:\n",
    "        picurl = 'NA'\n",
    "    player_info[\"picurl\"] = picurl\n",
    "    paras = soup.find('div',{'id':'meta'}).findAll('p')\n",
    "    flagc = 0\n",
    "    flagh = 0\n",
    "    for para in paras:\n",
    "    #     print(para.text)\n",
    "        if(\"College:\" in para.text):\n",
    "            flagc = 1\n",
    "            if(\",\" in para.find('a').text):\n",
    "                collg = (para.find('a').text).partition(',')[0].strip()\n",
    "                collgcity = (para.find('a').text).partition(',')[2].strip()\n",
    "                cglat = geocode(collg)[0]\n",
    "                cglong = geocode(collg)[1]\n",
    "                player_info[\"collg\"] = collg\n",
    "                player_info[\"collgcity\"] = collgcity\n",
    "                player_info[\"cglat\"] = cglat\n",
    "                player_info[\"cglong\"] = cglong\n",
    "            else:\n",
    "                collg = (para.find('a').text).strip()\n",
    "                collgcity = 'NA'\n",
    "                cglat = geocode(collg)[0]\n",
    "                cglong = geocode(collg)[1]\n",
    "                player_info[\"collg\"] = collg\n",
    "                player_info[\"collgcity\"] = collgcity\n",
    "                player_info[\"cglat\"] = cglat\n",
    "                player_info[\"cglong\"] = cglong\n",
    "\n",
    "        if(\"High School\" in para.text):\n",
    "            flagh = 1\n",
    "            if(\"in\" in para.text):\n",
    "        #             print((para.text).partition(' in'))\n",
    "                    hs = ((para.text).partition(' in')[0]).partition('High School:')[2].strip()\n",
    "                    hscity = ((para.text).partition(' in')[2]).partition(',')[0].strip()\n",
    "                    hsstate = ((para.text).partition(' in')[2]).partition(',')[2].strip()\n",
    "                    target_add = hscity + \",\" + hsstate\n",
    "                    hslat = geocode(target_add)[0]\n",
    "                    hslong = geocode(target_add)[1]\n",
    "                    player_info[\"hs\"] = hs\n",
    "                    player_info[\"hscity\"] = hscity\n",
    "                    player_info[\"hsstate\"] = hsstate\n",
    "                    player_info[\"hslat\"] = hslat\n",
    "                    player_info[\"hslong\"] = hslong\n",
    "            else:\n",
    "                    hs = (para.text).strip()\n",
    "                    hscity = 'NA'\n",
    "                    hsstate = 'NA'\n",
    "                    hslat = geocode(hs)[0]\n",
    "                    hslong = geocode(hs)[1]\n",
    "                    player_info[\"hs\"] = hs\n",
    "                    player_info[\"hscity\"] = hscity\n",
    "                    player_info[\"hsstate\"] = hsstate\n",
    "                    player_info[\"hslat\"] = hslat\n",
    "                    player_info[\"hslong\"] = hslong\n",
    "    if(flagc == 0):\n",
    "            collg = 'NA'\n",
    "            collgcity = 'NA'\n",
    "            cglat = 'NA'\n",
    "            cglong = 'NA'\n",
    "            player_info[\"collg\"] = collg\n",
    "            player_info[\"collgcity\"] = collgcity\n",
    "            player_info[\"cglat\"] = cglat\n",
    "            player_info[\"cglong\"] = cglong\n",
    "    if(flagh == 0):\n",
    "            hs = 'NA'\n",
    "            hscity = 'NA'\n",
    "            hsstate = 'NA'\n",
    "            hslat = 'NA'\n",
    "            hslong = 'NA'\n",
    "            player_info[\"hs\"] = hs\n",
    "            player_info[\"hscity\"] = hscity\n",
    "            player_info[\"hsstate\"] = hsstate\n",
    "            player_info[\"hslat\"] = hslat\n",
    "            player_info[\"hslong\"] = hslong\n",
    "            \n",
    "    return player_info"
   ]
  },
  {
   "cell_type": "code",
   "execution_count": null,
   "metadata": {
    "collapsed": true
   },
   "outputs": [],
   "source": [
    "# #Call the scrape_all_players() function.Returns a list of dictionaries containing all players info and college stats\n",
    "nba_collg = scrape_all_players()"
   ]
  },
  {
   "cell_type": "code",
   "execution_count": 12,
   "metadata": {
    "collapsed": true
   },
   "outputs": [],
   "source": [
    "#In nba db, create a nba_collg collection\n",
    "conn = 'mongodb://localhost:27017'\n",
    "client = pymongo.MongoClient(conn)\n",
    "db = client.nba\n",
    "collection = db.nba_collg"
   ]
  },
  {
   "cell_type": "code",
   "execution_count": null,
   "metadata": {
    "collapsed": true
   },
   "outputs": [],
   "source": [
    "#Insert the nba_collg data in the nba_collg collection\n",
    "collection.insert(nba_collg)"
   ]
  }
 ],
 "metadata": {
  "kernelspec": {
   "display_name": "Python 3",
   "language": "python",
   "name": "python3"
  },
  "language_info": {
   "codemirror_mode": {
    "name": "ipython",
    "version": 3
   },
   "file_extension": ".py",
   "mimetype": "text/x-python",
   "name": "python",
   "nbconvert_exporter": "python",
   "pygments_lexer": "ipython3",
   "version": "3.6.3"
  }
 },
 "nbformat": 4,
 "nbformat_minor": 2
}
